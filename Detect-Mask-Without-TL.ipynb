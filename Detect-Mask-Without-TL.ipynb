{
 "cells": [
  {
   "cell_type": "code",
   "execution_count": 3,
   "metadata": {},
   "outputs": [],
   "source": [
    "import numpy as np\n",
    "import os\n",
    "import cv2\n",
    "import tensorflow as tf\n",
    "import tensorflow.keras as K\n",
    "import tensorflow.keras.layers as layers\n",
    "from tensorflow.keras.preprocessing.image import ImageDataGenerator\n",
    "from tensorflow.keras.applications import MobileNetV2"
   ]
  },
  {
   "cell_type": "code",
   "execution_count": 22,
   "metadata": {},
   "outputs": [],
   "source": [
    "TRAIN_DIR = './train'\n",
    "VAL_DIR = './val'\n",
    "EPOCHS = 10\n",
    "imageSize = 300"
   ]
  },
  {
   "cell_type": "code",
   "execution_count": 23,
   "metadata": {},
   "outputs": [],
   "source": [
    "trainImageGen = ImageDataGenerator(rescale = 1./255.)\n",
    "valImageGen = ImageDataGenerator(rescale = 1./255.)"
   ]
  },
  {
   "cell_type": "code",
   "execution_count": 24,
   "metadata": {},
   "outputs": [
    {
     "name": "stdout",
     "output_type": "stream",
     "text": [
      "Found 1376 images belonging to 2 classes.\n",
      "Found 142 images belonging to 2 classes.\n"
     ]
    }
   ],
   "source": [
    "trainingSet = trainImageGen.flow_from_directory(batch_size = 64,\n",
    "                                                directory = TRAIN_DIR,\n",
    "                                                shuffle = True,\n",
    "                                                target_size = (imageSize, imageSize),\n",
    "                                                class_mode = 'binary'\n",
    "                                               )\n",
    "\n",
    "valSet = valImageGen.flow_from_directory(batch_size = 64,\n",
    "                                         directory = VAL_DIR,\n",
    "                                         shuffle = False,\n",
    "                                         target_size = (imageSize, imageSize),\n",
    "                                         class_mode = 'binary'\n",
    "                                        )"
   ]
  },
  {
   "cell_type": "code",
   "execution_count": 25,
   "metadata": {},
   "outputs": [
    {
     "name": "stdout",
     "output_type": "stream",
     "text": [
      "{'with_mask': 0, 'without_mask': 1}\n"
     ]
    }
   ],
   "source": [
    "print(trainingSet.class_indices)"
   ]
  },
  {
   "cell_type": "code",
   "execution_count": 32,
   "metadata": {},
   "outputs": [],
   "source": [
    "def getMaskModel():\n",
    "    K.backend.clear_session()\n",
    "    \n",
    "    inputs = layers.Input(shape = (imageSize, imageSize, 3))\n",
    "    \n",
    "    model = layers.Conv2D(16, (3,3), activation='relu', input_shape=(300, 300, 3))(inputs)\n",
    "    model = layers.MaxPooling2D(2, 2)(model)\n",
    "    model = layers.Conv2D(32, (3,3), activation='relu')(model)\n",
    "    model = layers.MaxPooling2D(2,2)(model)\n",
    "    model = layers.Conv2D(64, (3,3), activation='relu')(model)\n",
    "    model = layers.MaxPooling2D(2,2)(model)\n",
    "    model = layers.Conv2D(64, (3,3), activation='relu')(model)\n",
    "    model = layers.MaxPooling2D(2,2)(model)\n",
    "    model = layers.Conv2D(64, (3,3), activation='relu')(model)\n",
    "    model = layers.MaxPooling2D(2,2)(model)\n",
    "    model = layers.Flatten()(model)\n",
    "    model = layers.Dense(512, activation='relu')(model)\n",
    "    model = layers.Dense(1, activation='sigmoid')(model)\n",
    "    \n",
    "    maskModel = K.models.Model(inputs = inputs, outputs = model)\n",
    "    \n",
    "    return maskModel"
   ]
  },
  {
   "cell_type": "code",
   "execution_count": 33,
   "metadata": {},
   "outputs": [],
   "source": [
    "model = getMaskModel()"
   ]
  },
  {
   "cell_type": "code",
   "execution_count": 34,
   "metadata": {},
   "outputs": [],
   "source": [
    "opt = K.optimizers.Adam(lr = 0.001, beta_1 = 0.9, beta_2 = 0.999)\n",
    "model.compile(loss = 'binary_crossentropy', optimizer = opt, metrics = ['accuracy'])"
   ]
  },
  {
   "cell_type": "code",
   "execution_count": 35,
   "metadata": {},
   "outputs": [
    {
     "name": "stdout",
     "output_type": "stream",
     "text": [
      "Model: \"model\"\n",
      "_________________________________________________________________\n",
      "Layer (type)                 Output Shape              Param #   \n",
      "=================================================================\n",
      "input_1 (InputLayer)         [(None, 300, 300, 3)]     0         \n",
      "_________________________________________________________________\n",
      "conv2d (Conv2D)              (None, 298, 298, 16)      448       \n",
      "_________________________________________________________________\n",
      "max_pooling2d (MaxPooling2D) (None, 149, 149, 16)      0         \n",
      "_________________________________________________________________\n",
      "conv2d_1 (Conv2D)            (None, 147, 147, 32)      4640      \n",
      "_________________________________________________________________\n",
      "max_pooling2d_1 (MaxPooling2 (None, 73, 73, 32)        0         \n",
      "_________________________________________________________________\n",
      "conv2d_2 (Conv2D)            (None, 71, 71, 64)        18496     \n",
      "_________________________________________________________________\n",
      "max_pooling2d_2 (MaxPooling2 (None, 35, 35, 64)        0         \n",
      "_________________________________________________________________\n",
      "conv2d_3 (Conv2D)            (None, 33, 33, 64)        36928     \n",
      "_________________________________________________________________\n",
      "max_pooling2d_3 (MaxPooling2 (None, 16, 16, 64)        0         \n",
      "_________________________________________________________________\n",
      "conv2d_4 (Conv2D)            (None, 14, 14, 64)        36928     \n",
      "_________________________________________________________________\n",
      "max_pooling2d_4 (MaxPooling2 (None, 7, 7, 64)          0         \n",
      "_________________________________________________________________\n",
      "flatten (Flatten)            (None, 3136)              0         \n",
      "_________________________________________________________________\n",
      "dense (Dense)                (None, 512)               1606144   \n",
      "_________________________________________________________________\n",
      "dense_1 (Dense)              (None, 1)                 513       \n",
      "=================================================================\n",
      "Total params: 1,704,097\n",
      "Trainable params: 1,704,097\n",
      "Non-trainable params: 0\n",
      "_________________________________________________________________\n"
     ]
    }
   ],
   "source": [
    "model.summary()"
   ]
  },
  {
   "cell_type": "code",
   "execution_count": 36,
   "metadata": {},
   "outputs": [
    {
     "name": "stdout",
     "output_type": "stream",
     "text": [
      "Epoch 1/10\n",
      "21/21 [==============================] - 113s 5s/step - loss: 0.4102 - accuracy: 0.8018 - val_loss: 0.1276 - val_accuracy: 0.9531\n",
      "Epoch 2/10\n",
      "21/21 [==============================] - 92s 4s/step - loss: 0.1182 - accuracy: 0.9665 - val_loss: 0.0789 - val_accuracy: 0.9688\n",
      "Epoch 3/10\n",
      "21/21 [==============================] - 91s 4s/step - loss: 0.0781 - accuracy: 0.9748 - val_loss: 0.0877 - val_accuracy: 0.9766\n",
      "Epoch 4/10\n",
      "21/21 [==============================] - 93s 4s/step - loss: 0.0637 - accuracy: 0.9802 - val_loss: 0.0251 - val_accuracy: 0.9922\n",
      "Epoch 5/10\n",
      "21/21 [==============================] - 92s 4s/step - loss: 0.0709 - accuracy: 0.9802 - val_loss: 0.0640 - val_accuracy: 0.9844\n",
      "Epoch 6/10\n",
      "21/21 [==============================] - 96s 5s/step - loss: 0.0740 - accuracy: 0.9779 - val_loss: 0.0562 - val_accuracy: 0.9844\n",
      "Epoch 7/10\n",
      "21/21 [==============================] - 93s 4s/step - loss: 0.0296 - accuracy: 0.9893 - val_loss: 0.0515 - val_accuracy: 0.9844\n",
      "Epoch 8/10\n",
      "21/21 [==============================] - 96s 5s/step - loss: 0.0180 - accuracy: 0.9947 - val_loss: 0.0146 - val_accuracy: 0.9922\n",
      "Epoch 9/10\n",
      "21/21 [==============================] - 93s 4s/step - loss: 0.0119 - accuracy: 0.9954 - val_loss: 0.0163 - val_accuracy: 0.9922\n",
      "Epoch 10/10\n",
      "21/21 [==============================] - 103s 5s/step - loss: 0.0380 - accuracy: 0.9863 - val_loss: 0.0630 - val_accuracy: 0.9844\n"
     ]
    }
   ],
   "source": [
    "history = model.fit(trainingSet,\n",
    "                    steps_per_epoch =  1376 // 64,\n",
    "                    epochs = EPOCHS,\n",
    "                    validation_data = valSet,\n",
    "                    validation_steps = 142 // 64\n",
    "                   )"
   ]
  },
  {
   "cell_type": "code",
   "execution_count": 39,
   "metadata": {},
   "outputs": [],
   "source": [
    "model.save_weights(\"mask-detect-model-weights.h5\")"
   ]
  },
  {
   "cell_type": "code",
   "execution_count": 40,
   "metadata": {},
   "outputs": [],
   "source": [
    "with open('mask-detect-model.json', 'w+') as file:\n",
    "    file.write(model.to_json())"
   ]
  },
  {
   "cell_type": "code",
   "execution_count": null,
   "metadata": {},
   "outputs": [],
   "source": []
  }
 ],
 "metadata": {
  "kernelspec": {
   "display_name": "Python 3",
   "language": "python",
   "name": "python3"
  },
  "language_info": {
   "codemirror_mode": {
    "name": "ipython",
    "version": 3
   },
   "file_extension": ".py",
   "mimetype": "text/x-python",
   "name": "python",
   "nbconvert_exporter": "python",
   "pygments_lexer": "ipython3",
   "version": "3.8.2"
  }
 },
 "nbformat": 4,
 "nbformat_minor": 4
}
